{
 "cells": [
  {
   "cell_type": "raw",
   "id": "7fe03510-af12-4401-a0bd-14995620b852",
   "metadata": {},
   "source": [
    "Q1. How do you comment code in Python? What are the different types of comments?\n",
    "Ans: There are three types of comments in Python:\n",
    "Single line Comments\n",
    "Multiline Comments\n",
    "Docstring Comments\n",
    "\n",
    "single line comments: we can put the single line comments using # sign, with the help of # we can only comment the single line if we want to comment second line then we need to put # again.\n",
    "\n",
    "Multiline Comments: we can use \"\"\" \"\"\" thriple quate to comment the multiline\n",
    "\n",
    "Docstring in Python: Python docstring is the string literals with triple quotes that are appeared right after the function. It is used to associate documentation that has been written with Python modules, functions, classes, and methods. It is added right below the functions, modules, or classes to describe what they do."
   ]
  },
  {
   "cell_type": "markdown",
   "id": "fd5bb469-e859-44ed-bb36-d0be15480769",
   "metadata": {},
   "source": [
    "Q2. What are variables in Python? How do you declare and assign values to variables?\n",
    "Ans: In Python, variables are used to store and represent data. They act as placeholders for values that can be manipulated and accessed within a program. Variables can hold different types of data, such as numbers, strings, lists, or more complex objects.\n",
    "\n",
    "To declare and assign values to variables in Python, you simply need to choose a name for the variable and use the assignment operator (=) to assign a value to it."
   ]
  },
  {
   "cell_type": "markdown",
   "id": "721c42ee-093f-4020-bc01-7da74f4978e9",
   "metadata": {},
   "source": [
    "Q3. How do you convert one data type to another in Python?\n",
    "Ans: In Python, you can convert one data type to another using type conversion functions or constructors. Python provides several built-in functions for converting between different data types.\n",
    "\n",
    "int(): Converts a value to an integer. For example:\n",
    "\n",
    "num = int(\"10\")  # Converts the string \"10\" to an integer\n",
    "float(): Converts a value to a floating-point number. For example:\n",
    "\n",
    "num = float(\"3.14\")  # Converts the string \"3.14\" to a float\n",
    "str(): Converts a value to a string. For example:\n",
    "\n",
    "text = str(42)  # Converts the integer 42 to a string\n",
    "list(): Converts an iterable (such as a string, tuple, or set) to a list. For example:\n",
    "\n",
    "items = list(\"abc\")  # Converts the string \"abc\" to a list ['a', 'b', 'c']\n",
    "tuple(): Converts an iterable to a tuple. For example:\n",
    "\n",
    "items = tuple([1, 2, 3])  # Converts the list [1, 2, 3] to a tuple (1, 2, 3)\n",
    "set(): Converts an iterable to a set. For example:\n",
    "\n",
    "items = set([1, 2, 2, 3])  # Converts the list [1, 2, 2, 3] to a set {1, 2, 3}\n",
    "bool(): Converts a value to a boolean. Common conversions include bool(0) to False, bool(1) to True, bool(\"\") to False, and bool(\"some text\") to True."
   ]
  },
  {
   "cell_type": "markdown",
   "id": "3e71b059-7c10-4890-86d1-0f60cf0957fc",
   "metadata": {},
   "source": [
    "Q4. How do you write and execute a Python script from the command line?\n",
    "Ans: To write and execute a Python script from the command line, follow these steps:\n",
    "\n",
    "Open a text editor of your choice (e.g., Notepad, Sublime Text, Visual Studio Code) and create a new file.\n",
    "\n",
    "Write your Python code in the file, starting with the necessary shebang line. The shebang line tells the operating system that this file should be executed using the Python interpreter. Here's an example of a simple Python script that prints \"Hello, World!\":\n",
    "\n",
    "print(\"Hello, World!\")\n",
    "Save the file with a .py extension. For example, you can save it as hello.py.\n",
    "\n",
    "Open the command prompt or terminal on your operating system.\n",
    "\n",
    "Navigate to the directory where you saved the Python script using the cd command. For example, if you saved the script on the desktop, you can navigate to the desktop directory like this:\n",
    "\n",
    "cd Desktop\n",
    "\n",
    "Once you are in the correct directory, you can execute the Python script by typing python followed by the script's filename. For example, to execute the hello.py script, you would type:\n",
    "\n",
    "python hello.py\n",
    "\n",
    "If you have both Python 2 and Python 3 installed, you might need to specify python3 instead of python to use Python 3 explicitly:\n",
    "\n",
    "python3 hello.py\n",
    "\n",
    "Press Enter to run the command. The Python script will execute, and you should see the output, \"Hello, World!\" in this case, displayed in the command prompt or terminal."
   ]
  },
  {
   "cell_type": "markdown",
   "id": "d7e8169e-b8c1-408e-a7c3-59ddf6dfbece",
   "metadata": {},
   "source": [
    "\n",
    "Q5. Given a list my_list = [1, 2, 3, 4, 5], write the code to slice the list and obtain the sub-list [2, 3].\n",
    "\n",
    "Ans: To slice a list in Python and obtain a sub-list, you can use the slice notation with the index positions of the desired elements. In this case, to obtain the sub-list [2, 3] from the given list [1, 2, 3, 4, 5], you can use the slice [1:3]. Here's the code:\n",
    "\n",
    "my_list = [1, 2, 3, 4, 5]\n",
    "sub_list = my_list[1:3]\n",
    "print(sub_list)"
   ]
  },
  {
   "cell_type": "markdown",
   "id": "a5107a73-bf32-411c-b320-b9c9c16ba231",
   "metadata": {},
   "source": [
    "Q6. What is a complex number in mathematics, and how is it represented in Python?\n",
    "Ans: In mathematics, a complex number is a number that comprises a real part and an imaginary part. It is represented in the form a + bi, where a is the real part, b is the imaginary part, and i is the imaginary unit, defined as the square root of -1.\n",
    "\n",
    "In Python, complex numbers are fully supported as a built-in numeric type. They are represented using the complex class. The real and imaginary parts are stored as floating-point numbers."
   ]
  },
  {
   "cell_type": "markdown",
   "id": "89b2be31-ae4c-44aa-9d6f-b0136060a4e0",
   "metadata": {},
   "source": [
    "Q7. What is the correct way to declare a variable named age and assign the value 25 to it?\n",
    "Ans: To declare a variable named age and assign the value 25 to it in Python, you can use the following syntax:\n",
    "age = 25"
   ]
  },
  {
   "cell_type": "markdown",
   "id": "6a4cc646-6cc0-43a1-abed-cd82993faa95",
   "metadata": {},
   "source": [
    "Q8. Declare a variable named price and assign the value 9.99 to it. What data type does this variable\n",
    "belong to?\n",
    "Ans: If you declare a variable named price and assign the value 9.99 to it, the data type of the variable will be a floating-point number (float).\n",
    "\n",
    "Here's an example of how to declare the price variable and assign the value 9.99 to it:\n",
    "\n",
    "price = 9.99"
   ]
  },
  {
   "cell_type": "markdown",
   "id": "3a9f409f-86ed-4b09-bafe-08f73927f197",
   "metadata": {},
   "source": [
    "Q9. Create a variable named name and assign your full name to it as a string. How would you print the\n",
    "value of this variable?\n",
    "Ans: To create a variable named name and assign your full name to it as a string, you can follow this example:\n",
    "\n",
    "name = \"Mohit Yadav\"\n",
    "\n",
    "In the above code, the variable name is declared and assigned the value \"Mohit Yadav\", which is a string representing a full name.\n",
    "\n",
    "To print the value of the name variable, you can use the print() function, passing the variable as an argument:\n",
    "\n",
    "print(name)"
   ]
  },
  {
   "cell_type": "markdown",
   "id": "4f54272c-f126-4a4b-9f47-bcffce0f450e",
   "metadata": {},
   "source": [
    "Q10. Given the string \"Hello, World!\", extract the substring \"World\".\n",
    "Ans: string = \"Hello, World!\"\n",
    "substring = string[7:12]\n",
    "print(substring)"
   ]
  },
  {
   "cell_type": "markdown",
   "id": "49aa0654-ee43-4a34-8407-d9dbbc785391",
   "metadata": {},
   "source": [
    "Q11. Create a variable named \"is_student\" and assign it a boolean value indicating whether you are\n",
    "currently a student or not.\n",
    "Ans : is_Student = False"
   ]
  }
 ],
 "metadata": {
  "kernelspec": {
   "display_name": "Python 3 (ipykernel)",
   "language": "python",
   "name": "python3"
  },
  "language_info": {
   "codemirror_mode": {
    "name": "ipython",
    "version": 3
   },
   "file_extension": ".py",
   "mimetype": "text/x-python",
   "name": "python",
   "nbconvert_exporter": "python",
   "pygments_lexer": "ipython3",
   "version": "3.10.8"
  }
 },
 "nbformat": 4,
 "nbformat_minor": 5
}
